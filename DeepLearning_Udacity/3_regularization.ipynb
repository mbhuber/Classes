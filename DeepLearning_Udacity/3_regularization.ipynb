{
 "cells": [
  {
   "cell_type": "markdown",
   "metadata": {
    "colab_type": "text",
    "id": "kR-4eNdK6lYS"
   },
   "source": [
    "Deep Learning\n",
    "=============\n",
    "\n",
    "Assignment 3\n",
    "------------\n",
    "\n",
    "Previously in `2_fullyconnected.ipynb`, you trained a logistic regression and a neural network model.\n",
    "\n",
    "The goal of this assignment is to explore regularization techniques."
   ]
  },
  {
   "cell_type": "code",
   "execution_count": 80,
   "metadata": {
    "cellView": "both",
    "colab": {
     "autoexec": {
      "startup": false,
      "wait_interval": 0
     }
    },
    "colab_type": "code",
    "collapsed": true,
    "id": "JLpLa8Jt7Vu4"
   },
   "outputs": [],
   "source": [
    "# These are all the modules we'll be using later. Make sure you can import them\n",
    "# before proceeding further.\n",
    "from __future__ import print_function\n",
    "import numpy as np\n",
    "import tensorflow as tf\n",
    "from six.moves import cPickle as pickle\n",
    "import time"
   ]
  },
  {
   "cell_type": "markdown",
   "metadata": {
    "colab_type": "text",
    "id": "1HrCK6e17WzV"
   },
   "source": [
    "First reload the data we generated in _notmist.ipynb_."
   ]
  },
  {
   "cell_type": "code",
   "execution_count": 11,
   "metadata": {
    "cellView": "both",
    "colab": {
     "autoexec": {
      "startup": false,
      "wait_interval": 0
     },
     "output_extras": [
      {
       "item_id": 1
      }
     ]
    },
    "colab_type": "code",
    "collapsed": false,
    "executionInfo": {
     "elapsed": 11777,
     "status": "ok",
     "timestamp": 1449849322348,
     "user": {
      "color": "",
      "displayName": "",
      "isAnonymous": false,
      "isMe": true,
      "permissionId": "",
      "photoUrl": "",
      "sessionId": "0",
      "userId": ""
     },
     "user_tz": 480
    },
    "id": "y3-cj1bpmuxc",
    "outputId": "e03576f1-ebbe-4838-c388-f1777bcc9873"
   },
   "outputs": [
    {
     "name": "stdout",
     "output_type": "stream",
     "text": [
      "Training set (20000, 28, 28) (20000,)\n",
      "Validation set (10000, 28, 28) (10000,)\n",
      "Test set (10000, 28, 28) (10000,)\n"
     ]
    }
   ],
   "source": [
    "pickle_file = 'notMNIST.pickle'\n",
    "\n",
    "with open(pickle_file, 'rb') as f:\n",
    "  save = pickle.load(f)\n",
    "  train_dataset = save['train_dataset']\n",
    "  train_labels = save['train_labels']\n",
    "  valid_dataset = save['valid_dataset']\n",
    "  valid_labels = save['valid_labels']\n",
    "  test_dataset = save['test_dataset']\n",
    "  test_labels = save['test_labels']\n",
    "  del save  # hint to help gc free up memory\n",
    "  print('Training set', train_dataset.shape, train_labels.shape)\n",
    "  print('Validation set', valid_dataset.shape, valid_labels.shape)\n",
    "  print('Test set', test_dataset.shape, test_labels.shape)"
   ]
  },
  {
   "cell_type": "markdown",
   "metadata": {
    "colab_type": "text",
    "id": "L7aHrm6nGDMB"
   },
   "source": [
    "Reformat into a shape that's more adapted to the models we're going to train:\n",
    "- data as a flat matrix,\n",
    "- labels as float 1-hot encodings."
   ]
  },
  {
   "cell_type": "code",
   "execution_count": 12,
   "metadata": {
    "cellView": "both",
    "colab": {
     "autoexec": {
      "startup": false,
      "wait_interval": 0
     },
     "output_extras": [
      {
       "item_id": 1
      }
     ]
    },
    "colab_type": "code",
    "collapsed": false,
    "executionInfo": {
     "elapsed": 11728,
     "status": "ok",
     "timestamp": 1449849322356,
     "user": {
      "color": "",
      "displayName": "",
      "isAnonymous": false,
      "isMe": true,
      "permissionId": "",
      "photoUrl": "",
      "sessionId": "0",
      "userId": ""
     },
     "user_tz": 480
    },
    "id": "IRSyYiIIGIzS",
    "outputId": "3f8996ee-3574-4f44-c953-5c8a04636582"
   },
   "outputs": [
    {
     "name": "stdout",
     "output_type": "stream",
     "text": [
      "Training set (20000, 784) (20000, 10)\n",
      "Validation set (10000, 784) (10000, 10)\n",
      "Test set (10000, 784) (10000, 10)\n"
     ]
    }
   ],
   "source": [
    "image_size = 28\n",
    "num_labels = 10\n",
    "\n",
    "def reformat(dataset, labels):\n",
    "  dataset = dataset.reshape((-1, image_size * image_size)).astype(np.float32)\n",
    "  # Map 1 to [0.0, 1.0, 0.0 ...], 2 to [0.0, 0.0, 1.0 ...]\n",
    "  labels = (np.arange(num_labels) == labels[:,None]).astype(np.float32)\n",
    "  return dataset, labels\n",
    "train_dataset, train_labels = reformat(train_dataset, train_labels)\n",
    "valid_dataset, valid_labels = reformat(valid_dataset, valid_labels)\n",
    "test_dataset, test_labels = reformat(test_dataset, test_labels)\n",
    "print('Training set', train_dataset.shape, train_labels.shape)\n",
    "print('Validation set', valid_dataset.shape, valid_labels.shape)\n",
    "print('Test set', test_dataset.shape, test_labels.shape)"
   ]
  },
  {
   "cell_type": "code",
   "execution_count": 13,
   "metadata": {
    "cellView": "both",
    "colab": {
     "autoexec": {
      "startup": false,
      "wait_interval": 0
     }
    },
    "colab_type": "code",
    "collapsed": true,
    "id": "RajPLaL_ZW6w"
   },
   "outputs": [],
   "source": [
    "def accuracy(predictions, labels):\n",
    "  return (100.0 * np.sum(np.argmax(predictions, 1) == np.argmax(labels, 1))\n",
    "          / predictions.shape[0])"
   ]
  },
  {
   "cell_type": "markdown",
   "metadata": {
    "colab_type": "text",
    "id": "sgLbUAQ1CW-1"
   },
   "source": [
    "---\n",
    "Problem 1\n",
    "---------\n",
    "\n",
    "Introduce and tune L2 regularization for both logistic and neural network models. Remember that L2 amounts to adding a penalty on the norm of the weights to the loss. In TensorFlow, you can compute the L2 loss for a tensor `t` using `nn.l2_loss(t)`. The right amount of regularization should improve your validation / test accuracy.\n",
    "\n",
    "---"
   ]
  },
  {
   "cell_type": "markdown",
   "metadata": {},
   "source": [
    "#### Logistic Regression"
   ]
  },
  {
   "cell_type": "code",
   "execution_count": 34,
   "metadata": {
    "collapsed": false
   },
   "outputs": [],
   "source": [
    "batch_size = 128\n",
    "l2_value  = 0.01\n",
    "\n",
    "graph = tf.Graph()\n",
    "with graph.as_default():\n",
    "\n",
    "  # Input data. For the training data, we use a placeholder that will be fed\n",
    "  # at run time with a training minibatch.\n",
    "  tf_train_dataset = tf.placeholder(tf.float32,\n",
    "                                    shape=(batch_size, image_size * image_size))\n",
    "  tf_train_labels = tf.placeholder(tf.float32, shape=(batch_size, num_labels))\n",
    "  tf_valid_dataset = tf.constant(valid_dataset)\n",
    "  tf_test_dataset = tf.constant(test_dataset)\n",
    "  \n",
    "  # Variables.\n",
    "  weights = tf.Variable(\n",
    "    tf.truncated_normal([image_size * image_size, num_labels]))\n",
    "  biases = tf.Variable(tf.zeros([num_labels]))\n",
    "  \n",
    "  # Training computation.\n",
    "  logits = tf.matmul(tf_train_dataset, weights) + biases\n",
    "\n",
    "  loss = tf.reduce_mean(\n",
    "    tf.nn.softmax_cross_entropy_with_logits(logits, tf_train_labels)) \n",
    "\n",
    "  # L2 regularization for the fully connected parameters.\n",
    "  loss += l2_value * tf.nn.l2_loss(weights)\n",
    "  \n",
    "  # Optimizer.\n",
    "  optimizer = tf.train.GradientDescentOptimizer(0.5).minimize(loss)\n",
    "  \n",
    "  # Predictions for the training, validation, and test data.\n",
    "  train_prediction = tf.nn.softmax(logits)\n",
    "  valid_prediction = tf.nn.softmax(\n",
    "    tf.matmul(tf_valid_dataset, weights) + biases)\n",
    "  test_prediction = tf.nn.softmax(tf.matmul(tf_test_dataset, weights) + biases)"
   ]
  },
  {
   "cell_type": "code",
   "execution_count": 35,
   "metadata": {
    "collapsed": false
   },
   "outputs": [
    {
     "name": "stdout",
     "output_type": "stream",
     "text": [
      "Initialized\n",
      "Minibatch loss at step 0: 46.650734\n",
      "Minibatch accuracy: 9.4%\n",
      "Validation accuracy: 11.3%\n",
      "Minibatch loss at step 500: 0.915404\n",
      "Minibatch accuracy: 81.2%\n",
      "Validation accuracy: 81.2%\n",
      "Minibatch loss at step 1000: 0.728188\n",
      "Minibatch accuracy: 79.7%\n",
      "Validation accuracy: 80.9%\n",
      "Minibatch loss at step 1500: 0.815118\n",
      "Minibatch accuracy: 80.5%\n",
      "Validation accuracy: 80.8%\n",
      "Minibatch loss at step 2000: 0.755349\n",
      "Minibatch accuracy: 78.1%\n",
      "Validation accuracy: 81.4%\n",
      "Minibatch loss at step 2500: 0.702102\n",
      "Minibatch accuracy: 84.4%\n",
      "Validation accuracy: 81.2%\n",
      "Minibatch loss at step 3000: 0.646210\n",
      "Minibatch accuracy: 82.8%\n",
      "Validation accuracy: 81.8%\n",
      "Test accuracy: 88.3%\n"
     ]
    }
   ],
   "source": [
    "num_steps = 3001\n",
    "\n",
    "with tf.Session(graph=graph) as session:\n",
    "  tf.initialize_all_variables().run()\n",
    "  print(\"Initialized\")\n",
    "  for step in range(num_steps):\n",
    "    # Pick an offset within the training data, which has been randomized.\n",
    "    # Note: we could use better randomization across epochs.\n",
    "    offset = (step * batch_size) % (train_labels.shape[0] - batch_size)\n",
    "    # Generate a minibatch.\n",
    "    batch_data = train_dataset[offset:(offset + batch_size), :]\n",
    "    batch_labels = train_labels[offset:(offset + batch_size), :]\n",
    "    # Prepare a dictionary telling the session where to feed the minibatch.\n",
    "    # The key of the dictionary is the placeholder node of the graph to be fed,\n",
    "    # and the value is the numpy array to feed to it.\n",
    "    feed_dict = {tf_train_dataset : batch_data, tf_train_labels : batch_labels}\n",
    "    _, l, predictions = session.run(\n",
    "      [optimizer, loss, train_prediction], feed_dict=feed_dict)\n",
    "    if (step % 500 == 0):\n",
    "      print(\"Minibatch loss at step %d: %f\" % (step, l))\n",
    "      print(\"Minibatch accuracy: %.1f%%\" % accuracy(predictions, batch_labels))\n",
    "      print(\"Validation accuracy: %.1f%%\" % accuracy(\n",
    "        valid_prediction.eval(), valid_labels))\n",
    "  print(\"Test accuracy: %.1f%%\" % accuracy(test_prediction.eval(), test_labels))"
   ]
  },
  {
   "cell_type": "markdown",
   "metadata": {},
   "source": [
    "#### MLP"
   ]
  },
  {
   "cell_type": "code",
   "execution_count": 44,
   "metadata": {
    "collapsed": true
   },
   "outputs": [],
   "source": [
    "batch_size = 128\n",
    "l2_value = 0.01\n",
    "n_hidden_nodes= 1024 # relu layer\n",
    "\n",
    "graph = tf.Graph()\n",
    "with graph.as_default():\n",
    "\n",
    "  # Input data. For the training data, we use a placeholder that will be fed\n",
    "  # at run time with a training minibatch.\n",
    "  tf_train_dataset = tf.placeholder(tf.float32,\n",
    "                                    shape=(batch_size, image_size * image_size))\n",
    "  tf_train_labels = tf.placeholder(tf.float32, shape=(batch_size, num_labels))\n",
    "  tf_valid_dataset = tf.constant(valid_dataset)\n",
    "  tf_test_dataset = tf.constant(test_dataset)\n",
    "  \n",
    "  # Training computation.\n",
    "  \n",
    "  # Hidden layer 1\n",
    "  weights_relu = tf.Variable(\n",
    "    tf.truncated_normal([image_size * image_size, n_hidden_nodes]))\n",
    "  biases_relu = tf.Variable(tf.zeros([n_hidden_nodes]))\n",
    "    \n",
    "  relu_layer = tf.nn.relu(tf.matmul(tf_train_dataset,weights_relu) + biases_relu)\n",
    "    \n",
    "  # linear layer \n",
    "  weights = tf.Variable(tf.truncated_normal([n_hidden_nodes,num_labels]))\n",
    "  biases = tf.Variable(tf.zeros([num_labels]))    \n",
    "\n",
    "  logits = tf.matmul(relu_layer, weights) + biases\n",
    "\n",
    "  # loss/cost\n",
    "  loss = tf.reduce_mean(\n",
    "    tf.nn.softmax_cross_entropy_with_logits(logits, tf_train_labels))\n",
    "    \n",
    "  # L2 regularization for the fully connected parameters.\n",
    "  regularizers = (tf.nn.l2_loss(weights) + tf.nn.l2_loss(weights_relu))\n",
    "  loss += l2_value * regularizers\n",
    "  \n",
    "  # Optimizer.\n",
    "  optimizer = tf.train.GradientDescentOptimizer(0.05).minimize(loss)\n",
    "  \n",
    "  # Predictions for the training, validation, and test data.\n",
    "  train_prediction = tf.nn.softmax(logits)\n",
    "  valid_prediction = tf.nn.softmax(\n",
    "        tf.matmul( tf.nn.relu(tf.matmul(tf_valid_dataset, weights_relu) + biases_relu), weights) + biases \n",
    "    )\n",
    "  test_prediction = tf.nn.softmax(\n",
    "        tf.matmul( tf.nn.relu(tf.matmul(tf_test_dataset, weights_relu) + biases_relu), weights) + biases\n",
    "    )  "
   ]
  },
  {
   "cell_type": "code",
   "execution_count": 45,
   "metadata": {
    "collapsed": false
   },
   "outputs": [
    {
     "name": "stdout",
     "output_type": "stream",
     "text": [
      "Initialized\n",
      "Minibatch loss at step 0: 3501.701660\n",
      "Minibatch accuracy: 13.3%\n",
      "Validation accuracy: 20.2%\n",
      "Minibatch loss at step 2000: 424.398804\n",
      "Minibatch accuracy: 94.5%\n",
      "Validation accuracy: 81.1%\n",
      "Minibatch loss at step 4000: 57.700481\n",
      "Minibatch accuracy: 97.7%\n",
      "Validation accuracy: 84.3%\n",
      "Minibatch loss at step 6000: 8.375528\n",
      "Minibatch accuracy: 89.1%\n",
      "Validation accuracy: 85.3%\n",
      "Minibatch loss at step 8000: 1.632802\n",
      "Minibatch accuracy: 91.4%\n",
      "Validation accuracy: 85.0%\n",
      "Minibatch loss at step 10000: 0.777581\n",
      "Minibatch accuracy: 85.9%\n",
      "Validation accuracy: 85.0%\n",
      "Minibatch loss at step 12000: 0.723613\n",
      "Minibatch accuracy: 86.7%\n",
      "Validation accuracy: 84.9%\n",
      "Minibatch loss at step 14000: 0.779479\n",
      "Minibatch accuracy: 80.5%\n",
      "Validation accuracy: 84.8%\n",
      "Minibatch loss at step 16000: 0.497736\n",
      "Minibatch accuracy: 91.4%\n",
      "Validation accuracy: 84.8%\n",
      "Minibatch loss at step 18000: 0.545747\n",
      "Minibatch accuracy: 91.4%\n",
      "Validation accuracy: 84.9%\n",
      "Minibatch loss at step 20000: 0.757975\n",
      "Minibatch accuracy: 81.2%\n",
      "Validation accuracy: 85.1%\n",
      "Test accuracy: 90.9%\n"
     ]
    }
   ],
   "source": [
    "num_steps = 20001\n",
    "\n",
    "with tf.Session(graph=graph) as session:\n",
    "  tf.initialize_all_variables().run()\n",
    "  print(\"Initialized\")\n",
    "  for step in range(num_steps):\n",
    "    # Pick an offset within the training data, which has been randomized.\n",
    "    # Note: we could use better randomization across epochs.\n",
    "    #offset = (step * batch_size) % (train_labels.shape[0] - batch_size)\n",
    "    # Generate a minibatch.\n",
    "    #batch_data = train_dataset[offset:(offset + batch_size), :]\n",
    "    #batch_labels = train_labels[offset:(offset + batch_size), :]\n",
    "    \n",
    "    choice = np.random.choice(train_labels.shape[0],batch_size)\n",
    "    batch_data = train_dataset[choice, :]\n",
    "    batch_labels = train_labels[choice, :]\n",
    "    # Prepare a dictionary telling the session where to feed the minibatch.\n",
    "    # The key of the dictionary is the placeholder node of the graph to be fed,\n",
    "    # and the value is the numpy array to feed to it.\n",
    "    feed_dict = {tf_train_dataset : batch_data, tf_train_labels : batch_labels}\n",
    "    _, l, predictions = session.run(\n",
    "      [optimizer, loss, train_prediction], feed_dict=feed_dict)\n",
    "    if (step % 2000 == 0):\n",
    "      print(\"Minibatch loss at step %d: %f\" % (step, l))\n",
    "      print(\"Minibatch accuracy: %.1f%%\" % accuracy(predictions, batch_labels))\n",
    "      print(\"Validation accuracy: %.1f%%\" % accuracy(\n",
    "        valid_prediction.eval(), valid_labels))\n",
    "  print(\"Test accuracy: %.1f%%\" % accuracy(test_prediction.eval(), test_labels))"
   ]
  },
  {
   "cell_type": "markdown",
   "metadata": {
    "colab_type": "text",
    "id": "na8xX2yHZzNF"
   },
   "source": [
    "---\n",
    "Problem 2\n",
    "---------\n",
    "Let's demonstrate an extreme case of overfitting. Restrict your training data to just a few batches. What happens?\n",
    "\n",
    "---"
   ]
  },
  {
   "cell_type": "code",
   "execution_count": 47,
   "metadata": {
    "collapsed": true
   },
   "outputs": [],
   "source": [
    "batch_size = 128\n",
    "n_hidden_nodes= 1024 # relu layer\n",
    "\n",
    "graph = tf.Graph()\n",
    "with graph.as_default():\n",
    "\n",
    "  # Input data. For the training data, we use a placeholder that will be fed\n",
    "  # at run time with a training minibatch.\n",
    "  tf_train_dataset = tf.placeholder(tf.float32,shape=(batch_size, image_size * image_size))\n",
    "  tf_train_labels = tf.placeholder(tf.float32, shape=(batch_size, num_labels))\n",
    "  tf_valid_dataset = tf.constant(valid_dataset)\n",
    "  tf_test_dataset = tf.constant(test_dataset)\n",
    "  \n",
    "  # Training computation.\n",
    "  \n",
    "  # Hidden layer 1\n",
    "  weights_relu = tf.Variable( tf.truncated_normal([image_size * image_size, n_hidden_nodes]))\n",
    "  biases_relu = tf.Variable(tf.zeros([n_hidden_nodes]))\n",
    "    \n",
    "  relu_layer = tf.nn.relu(tf.matmul(tf_train_dataset,weights_relu) + biases_relu)\n",
    "    \n",
    "  # linear layer \n",
    "  weights = tf.Variable(tf.truncated_normal([n_hidden_nodes,num_labels]))\n",
    "  biases = tf.Variable(tf.zeros([num_labels]))    \n",
    "\n",
    "  logits = tf.matmul(relu_layer, weights) + biases\n",
    "\n",
    "  # loss/cost\n",
    "  loss = tf.reduce_mean(tf.nn.softmax_cross_entropy_with_logits(logits, tf_train_labels))\n",
    "  \n",
    "  # Optimizer.\n",
    "  optimizer = tf.train.GradientDescentOptimizer(0.05).minimize(loss)\n",
    "  \n",
    "  # Predictions for the training, validation, and test data.\n",
    "  train_prediction = tf.nn.softmax(logits)\n",
    "  valid_prediction = tf.nn.softmax(\n",
    "        tf.matmul( tf.nn.relu(tf.matmul(tf_valid_dataset, weights_relu) + biases_relu), weights) + biases \n",
    "    )\n",
    "  test_prediction = tf.nn.softmax(\n",
    "        tf.matmul( tf.nn.relu(tf.matmul(tf_test_dataset, weights_relu) + biases_relu), weights) + biases\n",
    "    )  "
   ]
  },
  {
   "cell_type": "code",
   "execution_count": 54,
   "metadata": {
    "collapsed": false
   },
   "outputs": [
    {
     "name": "stdout",
     "output_type": "stream",
     "text": [
      "Initialized\n",
      "Minibatch loss at step 0: 320.449982\n",
      "Minibatch accuracy: 7.0%\n",
      "Validation accuracy: 18.3%\n",
      "Minibatch loss at step 500: 0.000000\n",
      "Minibatch accuracy: 100.0%\n",
      "Validation accuracy: 71.8%\n",
      "Minibatch loss at step 1000: 0.000000\n",
      "Minibatch accuracy: 100.0%\n",
      "Validation accuracy: 71.8%\n",
      "Minibatch loss at step 1500: 0.000000\n",
      "Minibatch accuracy: 100.0%\n",
      "Validation accuracy: 71.7%\n",
      "Minibatch loss at step 2000: 0.000000\n",
      "Minibatch accuracy: 100.0%\n",
      "Validation accuracy: 71.6%\n",
      "Minibatch loss at step 2500: 0.000003\n",
      "Minibatch accuracy: 100.0%\n",
      "Validation accuracy: 71.7%\n",
      "Minibatch loss at step 3000: 0.000000\n",
      "Minibatch accuracy: 100.0%\n",
      "Validation accuracy: 71.8%\n",
      "Test accuracy: 78.5%\n"
     ]
    }
   ],
   "source": [
    "num_steps = 3001\n",
    "\n",
    "n_small_set = 10*batch_size\n",
    "\n",
    "train_dataset_small = train_dataset[:n_small_set,:]\n",
    "train_labels_small  = train_labels[:n_small_set,:]\n",
    "\n",
    "with tf.Session(graph=graph) as session:\n",
    "  tf.initialize_all_variables().run()\n",
    "  print(\"Initialized\")\n",
    "  for step in range(num_steps):\n",
    "    # Pick an offset within the training data, which has been randomized.    \n",
    "    choice = np.random.choice(train_labels_small.shape[0],batch_size)\n",
    "    batch_data = train_dataset_small[choice, :]\n",
    "    batch_labels = train_labels_small[choice, :]\n",
    "    # Prepare a dictionary telling the session where to feed the minibatch.\n",
    "    # The key of the dictionary is the placeholder node of the graph to be fed,\n",
    "    # and the value is the numpy array to feed to it.\n",
    "    feed_dict = {tf_train_dataset : batch_data, tf_train_labels : batch_labels}\n",
    "    _, l, predictions = session.run(\n",
    "      [optimizer, loss, train_prediction], feed_dict=feed_dict)\n",
    "    if (step % 500 == 0):\n",
    "      print(\"Minibatch loss at step %d: %f\" % (step, l))\n",
    "      print(\"Minibatch accuracy: %.1f%%\" % accuracy(predictions, batch_labels))\n",
    "      print(\"Validation accuracy: %.1f%%\" % accuracy(\n",
    "        valid_prediction.eval(), valid_labels))\n",
    "  print(\"Test accuracy: %.1f%%\" % accuracy(test_prediction.eval(), test_labels))"
   ]
  },
  {
   "cell_type": "markdown",
   "metadata": {
    "colab_type": "text",
    "id": "ww3SCBUdlkRc"
   },
   "source": [
    "---\n",
    "Problem 3\n",
    "---------\n",
    "Introduce Dropout on the hidden layer of the neural network. Remember: Dropout should only be introduced during training, not evaluation, otherwise your evaluation results would be stochastic as well. TensorFlow provides `nn.dropout()` for that, but you have to make sure it's only inserted during training.\n",
    "\n",
    "What happens to our extreme overfitting case?\n",
    "\n",
    "---"
   ]
  },
  {
   "cell_type": "code",
   "execution_count": 56,
   "metadata": {
    "collapsed": true
   },
   "outputs": [],
   "source": [
    "batch_size = 128\n",
    "l2_value = 0.01\n",
    "n_hidden_nodes= 1024 # relu layer\n",
    "dropout= 0.5\n",
    "\n",
    "graph = tf.Graph()\n",
    "with graph.as_default():\n",
    "\n",
    "  # Input data. For the training data, we use a placeholder that will be fed\n",
    "  # at run time with a training minibatch.\n",
    "  tf_train_dataset = tf.placeholder(tf.float32,\n",
    "                                    shape=(batch_size, image_size * image_size))\n",
    "  tf_train_labels = tf.placeholder(tf.float32, shape=(batch_size, num_labels))\n",
    "  tf_valid_dataset = tf.constant(valid_dataset)\n",
    "  tf_test_dataset = tf.constant(test_dataset)\n",
    "  \n",
    "  # Training computation.\n",
    "  \n",
    "  # Hidden layer 1 \n",
    "  weights_relu = tf.Variable(tf.truncated_normal([image_size * image_size, n_hidden_nodes]))\n",
    "  biases_relu = tf.Variable(tf.zeros([n_hidden_nodes]))\n",
    "    \n",
    "  relu_layer = tf.nn.relu(tf.matmul(tf_train_dataset,weights_relu) + biases_relu)\n",
    "\n",
    "  # Apply Dropout\n",
    "  relu_layer = tf.nn.dropout(relu_layer, dropout)\n",
    "  \n",
    "    \n",
    "  # linear layer \n",
    "  weights = tf.Variable(tf.truncated_normal([n_hidden_nodes,num_labels]))\n",
    "  biases = tf.Variable(tf.zeros([num_labels]))    \n",
    "\n",
    "  logits = tf.matmul(relu_layer, weights) + biases\n",
    "\n",
    "  # loss/cost\n",
    "  loss = tf.reduce_mean(tf.nn.softmax_cross_entropy_with_logits(logits, tf_train_labels))\n",
    "    \n",
    "  # L2 regularization for the fully connected parameters.\n",
    "  regularizers = (tf.nn.l2_loss(weights) + tf.nn.l2_loss(weights_relu))\n",
    "  loss += l2_value * regularizers\n",
    "  \n",
    "  # Optimizer.\n",
    "  optimizer = tf.train.GradientDescentOptimizer(0.05).minimize(loss)\n",
    "  \n",
    "  # Predictions for the training, validation, and test data.\n",
    "  train_prediction = tf.nn.softmax(logits)\n",
    "  valid_prediction = tf.nn.softmax(\n",
    "        tf.matmul( tf.nn.relu(tf.matmul(tf_valid_dataset, weights_relu) + biases_relu), weights) + biases \n",
    "    )\n",
    "  test_prediction = tf.nn.softmax(\n",
    "        tf.matmul( tf.nn.relu(tf.matmul(tf_test_dataset, weights_relu) + biases_relu), weights) + biases\n",
    "    )  "
   ]
  },
  {
   "cell_type": "code",
   "execution_count": 57,
   "metadata": {
    "collapsed": false
   },
   "outputs": [
    {
     "name": "stdout",
     "output_type": "stream",
     "text": [
      "Initialized\n",
      "Minibatch loss at step 0: 3636.136230\n",
      "Minibatch accuracy: 10.9%\n",
      "Validation accuracy: 16.9%\n",
      "Minibatch loss at step 2000: 418.562622\n",
      "Minibatch accuracy: 88.3%\n",
      "Validation accuracy: 83.9%\n",
      "Minibatch loss at step 4000: 56.743553\n",
      "Minibatch accuracy: 92.2%\n",
      "Validation accuracy: 85.1%\n",
      "Minibatch loss at step 6000: 8.178691\n",
      "Minibatch accuracy: 89.1%\n",
      "Validation accuracy: 85.0%\n",
      "Minibatch loss at step 8000: 1.717211\n",
      "Minibatch accuracy: 88.3%\n",
      "Validation accuracy: 84.9%\n",
      "Minibatch loss at step 10000: 0.890289\n",
      "Minibatch accuracy: 83.6%\n",
      "Validation accuracy: 84.9%\n",
      "Minibatch loss at step 12000: 0.600429\n",
      "Minibatch accuracy: 92.2%\n",
      "Validation accuracy: 84.7%\n",
      "Minibatch loss at step 14000: 0.740104\n",
      "Minibatch accuracy: 87.5%\n",
      "Validation accuracy: 84.5%\n",
      "Minibatch loss at step 16000: 0.709455\n",
      "Minibatch accuracy: 85.2%\n",
      "Validation accuracy: 85.0%\n",
      "Minibatch loss at step 18000: 0.586536\n",
      "Minibatch accuracy: 91.4%\n",
      "Validation accuracy: 84.8%\n",
      "Minibatch loss at step 20000: 0.655677\n",
      "Minibatch accuracy: 89.1%\n",
      "Validation accuracy: 85.0%\n",
      "Test accuracy: 90.8%\n"
     ]
    }
   ],
   "source": [
    "num_steps = 20001\n",
    "\n",
    "with tf.Session(graph=graph) as session:\n",
    "  tf.initialize_all_variables().run()\n",
    "  print(\"Initialized\")\n",
    "  for step in range(num_steps):\n",
    "    # Pick an offset within the training data, which has been randomized.\n",
    "    choice = np.random.choice(train_labels.shape[0],batch_size)\n",
    "    batch_data = train_dataset[choice, :]\n",
    "    batch_labels = train_labels[choice, :]\n",
    "    # Prepare a dictionary telling the session where to feed the minibatch.\n",
    "    # The key of the dictionary is the placeholder node of the graph to be fed,\n",
    "    # and the value is the numpy array to feed to it.\n",
    "    feed_dict = {tf_train_dataset : batch_data, tf_train_labels : batch_labels}\n",
    "    _, l, predictions = session.run(\n",
    "      [optimizer, loss, train_prediction], feed_dict=feed_dict)\n",
    "    if (step % 2000 == 0):\n",
    "      print(\"Minibatch loss at step %d: %f\" % (step, l))\n",
    "      print(\"Minibatch accuracy: %.1f%%\" % accuracy(predictions, batch_labels))\n",
    "      print(\"Validation accuracy: %.1f%%\" % accuracy(\n",
    "        valid_prediction.eval(), valid_labels))\n",
    "  print(\"Test accuracy: %.1f%%\" % accuracy(test_prediction.eval(), test_labels))"
   ]
  },
  {
   "cell_type": "markdown",
   "metadata": {},
   "source": [
    "#### Overfitting case with dropout"
   ]
  },
  {
   "cell_type": "code",
   "execution_count": 58,
   "metadata": {
    "collapsed": false
   },
   "outputs": [
    {
     "name": "stdout",
     "output_type": "stream",
     "text": [
      "Initialized\n",
      "Minibatch loss at step 0: 3666.666504\n",
      "Minibatch accuracy: 11.7%\n",
      "Validation accuracy: 21.2%\n",
      "Minibatch loss at step 500: 1901.410400\n",
      "Minibatch accuracy: 90.6%\n",
      "Validation accuracy: 80.6%\n",
      "Minibatch loss at step 1000: 1150.650879\n",
      "Minibatch accuracy: 94.5%\n",
      "Validation accuracy: 80.7%\n",
      "Minibatch loss at step 1500: 697.111877\n",
      "Minibatch accuracy: 96.1%\n",
      "Validation accuracy: 80.9%\n",
      "Minibatch loss at step 2000: 422.430328\n",
      "Minibatch accuracy: 98.4%\n",
      "Validation accuracy: 81.0%\n",
      "Minibatch loss at step 2500: 256.175690\n",
      "Minibatch accuracy: 98.4%\n",
      "Validation accuracy: 81.1%\n",
      "Minibatch loss at step 3000: 155.325882\n",
      "Minibatch accuracy: 100.0%\n",
      "Validation accuracy: 81.2%\n",
      "Test accuracy: 87.8%\n"
     ]
    }
   ],
   "source": [
    "num_steps = 3001\n",
    "\n",
    "n_small_set = 10*batch_size\n",
    "\n",
    "train_dataset_small = train_dataset[:n_small_set,:]\n",
    "train_labels_small  = train_labels[:n_small_set,:]\n",
    "\n",
    "with tf.Session(graph=graph) as session:\n",
    "  tf.initialize_all_variables().run()\n",
    "  print(\"Initialized\")\n",
    "  for step in range(num_steps):\n",
    "    # Pick an offset within the training data, which has been randomized.    \n",
    "    choice = np.random.choice(train_labels_small.shape[0],batch_size)\n",
    "    batch_data = train_dataset_small[choice, :]\n",
    "    batch_labels = train_labels_small[choice, :]\n",
    "    # Prepare a dictionary telling the session where to feed the minibatch.\n",
    "    # The key of the dictionary is the placeholder node of the graph to be fed,\n",
    "    # and the value is the numpy array to feed to it.\n",
    "    feed_dict = {tf_train_dataset : batch_data, tf_train_labels : batch_labels}\n",
    "    _, l, predictions = session.run(\n",
    "      [optimizer, loss, train_prediction], feed_dict=feed_dict)\n",
    "    if (step % 500 == 0):\n",
    "      print(\"Minibatch loss at step %d: %f\" % (step, l))\n",
    "      print(\"Minibatch accuracy: %.1f%%\" % accuracy(predictions, batch_labels))\n",
    "      print(\"Validation accuracy: %.1f%%\" % accuracy(\n",
    "        valid_prediction.eval(), valid_labels))\n",
    "  print(\"Test accuracy: %.1f%%\" % accuracy(test_prediction.eval(), test_labels))"
   ]
  },
  {
   "cell_type": "markdown",
   "metadata": {
    "colab_type": "text",
    "id": "-b1hTz3VWZjw"
   },
   "source": [
    "---\n",
    "Problem 4\n",
    "---------\n",
    "\n",
    "Try to get the best performance you can using a multi-layer model! The best reported test accuracy using a deep network is [97.1%](http://yaroslavvb.blogspot.com/2011/09/notmnist-dataset.html?showComment=1391023266211#c8758720086795711595).\n",
    "\n",
    "One avenue you can explore is to add multiple layers.\n",
    "\n",
    "Another one is to use learning rate decay:\n",
    "\n",
    "    global_step = tf.Variable(0)  # count the number of steps taken.\n",
    "    learning_rate = tf.train.exponential_decay(0.5, global_step, ...)\n",
    "    optimizer = tf.train.GradientDescentOptimizer(learning_rate).minimize(loss, global_step=global_step)\n",
    " \n",
    " ---\n"
   ]
  },
  {
   "cell_type": "code",
   "execution_count": 307,
   "metadata": {
    "collapsed": false
   },
   "outputs": [],
   "source": [
    "batch_size = 128\n",
    "l2_value = 0.002\n",
    "n_hidden_1, n_hidden_2, n_hidden_3= 512, 512, 256\n",
    "\n",
    "dropout= 0.70\n",
    "learning_rate, decay_rate, decay_steps = 0.002, 0.9, 300000\n",
    "\n",
    "graph = tf.Graph()\n",
    "with graph.as_default():\n",
    "\n",
    "  # Input data. For the training data, we use a placeholder that will be fed\n",
    "  # at run time with a training minibatch.\n",
    "  tf_train_dataset = tf.placeholder(tf.float32, shape=(batch_size, image_size * image_size))\n",
    "  tf_train_labels = tf.placeholder(tf.float32, shape=(batch_size, num_labels))\n",
    "  tf_valid_dataset = tf.constant(valid_dataset)\n",
    "  tf_test_dataset = tf.constant(test_dataset)\n",
    "    \n",
    "  # Store layers weight & bias\n",
    "  weights = {\n",
    "        'h1': tf.Variable(tf.truncated_normal([image_size * image_size, n_hidden_1])),\n",
    "        'h2': tf.Variable(tf.truncated_normal([n_hidden_1, n_hidden_2])),\n",
    "        'h3': tf.Variable(tf.truncated_normal([n_hidden_2, n_hidden_3])),\n",
    "        'out':tf.Variable(tf.truncated_normal([n_hidden_3,num_labels]))\n",
    "  }\n",
    "\n",
    "  biases = {\n",
    "        'h1': tf.Variable(tf.zeros([n_hidden_1])),\n",
    "        'h2': tf.Variable(tf.zeros([n_hidden_2])),\n",
    "        'h3': tf.Variable(tf.zeros([n_hidden_3])),\n",
    "        'out': tf.Variable(tf.zeros([num_labels]))  \n",
    "  }  \n",
    "  \n",
    "  # Hidden layer 1 \n",
    "  hidden_layer_1 = tf.nn.relu(tf.matmul(tf_train_dataset,weights['h1']) + biases['h1'])\n",
    "  hidden_layer_1 = tf.nn.dropout(hidden_layer_1, dropout) # Apply Dropout\n",
    "  \n",
    "  # Hidden layer 2 \n",
    "  hidden_layer_2 = tf.nn.relu(tf.matmul(hidden_layer_1,weights['h2']) + biases['h2'])\n",
    "  hidden_layer_2 = tf.nn.dropout(hidden_layer_2, dropout) # Apply Dropout\n",
    "  \n",
    "  # Hidden layer 3 \n",
    "  hidden_layer_3 = tf.nn.relu(tf.matmul(hidden_layer_2,weights['h3']) + biases['h3'])\n",
    "  hidden_layer_3 = tf.nn.dropout(hidden_layer_3, dropout) # Apply Dropout  \n",
    "    \n",
    "  # linear layer \n",
    "  logits = tf.matmul(hidden_layer_3, weights['out']) + biases['out']\n",
    "\n",
    "  # loss/cost\n",
    "  loss = tf.reduce_mean(tf.nn.softmax_cross_entropy_with_logits(logits, tf_train_labels))\n",
    "    \n",
    "  # L2 regularization for the fully connected parameters.\n",
    "  regularizers = sum([tf.nn.l2_loss(weights[l]) for l in weights.keys()])\n",
    "  loss += l2_value * regularizers\n",
    "  \n",
    "  # Optimizer.\n",
    "  global_step = tf.Variable(0)  # count the number of steps taken.\n",
    "  learning_rate = tf.train.exponential_decay(learning_rate, global_step, decay_steps, decay_rate)\n",
    "  optimizer = tf.train.GradientDescentOptimizer(learning_rate).minimize(loss, global_step=global_step)\n",
    " \n",
    "  # Predictions for the training, validation, and test data.\n",
    "  train_prediction = tf.nn.softmax(logits)\n",
    "\n",
    "\n",
    "  def predict(dataset,weights,biases):\n",
    "        layer1 = tf.nn.relu(tf.matmul(dataset, weights['h1']) + biases['h1'])\n",
    "        layer2 = tf.nn.relu(tf.matmul(layer1 , weights['h2']) + biases['h2'])\n",
    "        layer3 = tf.nn.relu(tf.matmul(layer2 , weights['h3']) + biases['h3'])\n",
    "        out    = tf.matmul(layer3 , weights['out']) + biases['out']                   \n",
    "        return tf.nn.softmax(out)  \n",
    "   \n",
    "  valid_prediction = predict(tf_valid_dataset,weights,biases)                         \n",
    "  test_prediction  = predict(tf_test_dataset ,weights,biases)                            "
   ]
  },
  {
   "cell_type": "code",
   "execution_count": 308,
   "metadata": {
    "collapsed": false,
    "scrolled": false
   },
   "outputs": [
    {
     "name": "stdout",
     "output_type": "stream",
     "text": [
      "Initialized\n",
      "Minibatch loss at step 0: 62644.042969\n",
      "Minibatch accuracy: 7.0%\n",
      "Validation accuracy: 19.4%\n",
      "Minibatch loss at step 50000: 415.143158\n",
      "Minibatch accuracy: 11.7%\n",
      "Validation accuracy: 10.0%\n",
      "Minibatch loss at step 100000: 281.922333\n",
      "Minibatch accuracy: 12.5%\n",
      "Validation accuracy: 10.0%\n",
      "Minibatch loss at step 150000: 192.987427\n",
      "Minibatch accuracy: 8.6%\n",
      "Validation accuracy: 10.0%\n",
      "Minibatch loss at step 200000: 133.205353\n",
      "Minibatch accuracy: 12.5%\n",
      "Validation accuracy: 10.0%\n",
      "Minibatch loss at step 250000: 92.758568\n",
      "Minibatch accuracy: 9.4%\n",
      "Validation accuracy: 10.0%\n",
      "Minibatch loss at step 300000: 65.211617\n",
      "Minibatch accuracy: 7.0%\n",
      "Validation accuracy: 10.0%\n",
      "Minibatch loss at step 350000: 46.137466\n",
      "Minibatch accuracy: 15.6%\n",
      "Validation accuracy: 19.2%\n",
      "Minibatch loss at step 400000: 33.056683\n",
      "Minibatch accuracy: 18.0%\n",
      "Validation accuracy: 21.3%\n",
      "Minibatch loss at step 450000: 24.003407\n",
      "Minibatch accuracy: 21.1%\n",
      "Validation accuracy: 34.0%\n",
      "Minibatch loss at step 500000: 17.489857\n",
      "Minibatch accuracy: 27.3%\n",
      "Validation accuracy: 49.7%\n",
      "Minibatch loss at step 550000: 12.287425\n",
      "Minibatch accuracy: 64.8%\n",
      "Validation accuracy: 80.4%\n",
      "Minibatch loss at step 600000: 8.669259\n",
      "Minibatch accuracy: 81.2%\n",
      "Validation accuracy: 83.2%\n",
      "Minibatch loss at step 650000: 6.555528\n",
      "Minibatch accuracy: 78.1%\n",
      "Validation accuracy: 84.8%\n",
      "Minibatch loss at step 700000: 4.681036\n",
      "Minibatch accuracy: 89.1%\n",
      "Validation accuracy: 85.7%\n",
      "Minibatch loss at step 750000: 3.679557\n",
      "Minibatch accuracy: 85.2%\n",
      "Validation accuracy: 86.4%\n",
      "Minibatch loss at step 800000: 2.791565\n",
      "Minibatch accuracy: 87.5%\n",
      "Validation accuracy: 86.9%\n",
      "Minibatch loss at step 850000: 2.059968\n",
      "Minibatch accuracy: 93.8%\n",
      "Validation accuracy: 87.2%\n",
      "Minibatch loss at step 900000: 1.609633\n",
      "Minibatch accuracy: 92.2%\n",
      "Validation accuracy: 87.4%\n",
      "Minibatch loss at step 950000: 1.257344\n",
      "Minibatch accuracy: 94.5%\n",
      "Validation accuracy: 87.7%\n",
      "Minibatch loss at step 1000000: 0.987497\n",
      "Minibatch accuracy: 97.7%\n",
      "Validation accuracy: 87.6%\n",
      "Minibatch loss at step 1050000: 0.878589\n",
      "Minibatch accuracy: 93.8%\n",
      "Validation accuracy: 87.7%\n",
      "Minibatch loss at step 1100000: 0.682174\n",
      "Minibatch accuracy: 96.9%\n",
      "Validation accuracy: 87.7%\n",
      "Minibatch loss at step 1150000: 0.648241\n",
      "Minibatch accuracy: 94.5%\n",
      "Validation accuracy: 87.7%\n",
      "Minibatch loss at step 1200000: 0.549963\n",
      "Minibatch accuracy: 97.7%\n",
      "Validation accuracy: 87.7%\n",
      "Minibatch loss at step 1250000: 0.427622\n",
      "Minibatch accuracy: 99.2%\n",
      "Validation accuracy: 87.7%\n",
      "Minibatch loss at step 1300000: 0.368907\n",
      "Minibatch accuracy: 100.0%\n",
      "Validation accuracy: 87.6%\n",
      "Minibatch loss at step 1350000: 0.362981\n",
      "Minibatch accuracy: 100.0%\n",
      "Validation accuracy: 87.6%\n",
      "Minibatch loss at step 1400000: 0.352816\n",
      "Minibatch accuracy: 100.0%\n",
      "Validation accuracy: 87.6%\n",
      "Minibatch loss at step 1450000: 0.313059\n",
      "Minibatch accuracy: 99.2%\n",
      "Validation accuracy: 87.7%\n",
      "Minibatch loss at step 1500000: 0.316814\n",
      "Minibatch accuracy: 99.2%\n",
      "Validation accuracy: 87.6%\n",
      "Test accuracy: 93.1%\n",
      "Elapsed Time: 295.23 min\n"
     ]
    }
   ],
   "source": [
    "num_steps = 1500001\n",
    "\n",
    "startT = time.time()\n",
    "\n",
    "with tf.Session(graph=graph) as session:\n",
    "  tf.initialize_all_variables().run()\n",
    "  print(\"Initialized\")\n",
    "  for step in range(num_steps):\n",
    "    # Pick an offset within the training data, which has been randomized.\n",
    "    choice = np.random.choice(train_labels.shape[0],batch_size)\n",
    "    batch_data = train_dataset[choice, :]\n",
    "    batch_labels = train_labels[choice, :]\n",
    "    # Prepare a dictionary telling the session where to feed the minibatch.\n",
    "    # The key of the dictionary is the placeholder node of the graph to be fed,\n",
    "    # and the value is the numpy array to feed to it.\n",
    "    feed_dict = {tf_train_dataset : batch_data, tf_train_labels : batch_labels}\n",
    "    _, l, predictions = session.run(\n",
    "      [optimizer, loss, train_prediction], feed_dict=feed_dict)\n",
    "    if (step % 50000 == 0):\n",
    "      print(\"Minibatch loss at step %d: %f\" % (step, l))\n",
    "      print(\"Minibatch accuracy: %.1f%%\" % accuracy(predictions, batch_labels))\n",
    "      print(\"Validation accuracy: %.1f%%\" % accuracy(\n",
    "        valid_prediction.eval(), valid_labels))\n",
    "  print(\"Test accuracy: %.1f%%\" % accuracy(test_prediction.eval(), test_labels))\n",
    "\n",
    "print('Elapsed Time: %.2f min'%( (time.time()-startT)/60.))"
   ]
  },
  {
   "cell_type": "code",
   "execution_count": 283,
   "metadata": {
    "collapsed": false
   },
   "outputs": [
    {
     "ename": "SyntaxError",
     "evalue": "invalid syntax (<ipython-input-283-dbd2abc770c9>, line 8)",
     "output_type": "error",
     "traceback": [
      "\u001b[1;36m  File \u001b[1;32m\"<ipython-input-283-dbd2abc770c9>\"\u001b[1;36m, line \u001b[1;32m8\u001b[0m\n\u001b[1;33m    Minibatch loss at step 70000: 0.522530\u001b[0m\n\u001b[1;37m                 ^\u001b[0m\n\u001b[1;31mSyntaxError\u001b[0m\u001b[1;31m:\u001b[0m invalid syntax\n"
     ]
    }
   ],
   "source": [
    "batch_size = 128\n",
    "l2_value = 0.005\n",
    "n_hidden_1= 512 # 256 # relu layer\n",
    "n_hidden_2= 512 # relu layer\n",
    "dropout= 0.5\n",
    "learning_rate=0.02\n",
    "\n",
    "Minibatch loss at step 70000: 0.522530\n",
    "Minibatch accuracy: 91.4%\n",
    "Validation accuracy: 87.4%\n",
    "Test accuracy: 92.5%"
   ]
  },
  {
   "cell_type": "code",
   "execution_count": null,
   "metadata": {
    "collapsed": true
   },
   "outputs": [],
   "source": [
    "batch_size = 128\n",
    "l2_value = 0.007\n",
    "n_hidden_1, n_hidden_2, n_hidden_3= 512, 256, 64\n",
    "dropout= 0.9\n",
    "learning_rate=0.005\n",
    "\n",
    "Minibatch loss at step 300000: 0.559653\n",
    "Minibatch accuracy: 97.7%\n",
    "Validation accuracy: 87.5%\n",
    "Test accuracy: 93.0%\n",
    "Elapsed Time: 42.12 min"
   ]
  },
  {
   "cell_type": "code",
   "execution_count": null,
   "metadata": {
    "collapsed": true
   },
   "outputs": [],
   "source": [
    "batch_size = 128\n",
    "l2_value = 0.005\n",
    "n_hidden_1, n_hidden_2, n_hidden_3= 512, 256, 128\n",
    "dropout= 0.8\n",
    "learning_rate=0.003\n",
    "\n",
    "Minibatch loss at step 400000: 0.496380\n",
    "Minibatch accuracy: 97.7%\n",
    "Validation accuracy: 87.6%\n",
    "Test accuracy: 93.1%\n",
    "Elapsed Time: 57.58 min"
   ]
  },
  {
   "cell_type": "code",
   "execution_count": null,
   "metadata": {
    "collapsed": true
   },
   "outputs": [],
   "source": [
    "batch_size = 128\n",
    "l2_value = 0.004\n",
    "n_hidden_1, n_hidden_2, n_hidden_3= 512, 256, 128\n",
    "dropout= 0.80\n",
    "learning_rate, decay_rate, decay_steps = 0.005, 0.7, 150000\n",
    "\n",
    "Minibatch loss at step 500000: 0.419205\n",
    "Minibatch accuracy: 97.7%\n",
    "Validation accuracy: 87.7%\n",
    "Test accuracy: 93.1%\n",
    "Elapsed Time: 73.54 min\n"
   ]
  },
  {
   "cell_type": "code",
   "execution_count": null,
   "metadata": {
    "collapsed": true
   },
   "outputs": [],
   "source": [
    "batch_size = 128\n",
    "l2_value = 0.003\n",
    "n_hidden_1, n_hidden_2, n_hidden_3= 512, 256, 128\n",
    "dropout= 0.80\n",
    "learning_rate, decay_rate, decay_steps = 0.005, 0.7, 150000\n",
    "\n",
    "Minibatch loss at step 500000: 0.429590\n",
    "Minibatch accuracy: 99.2%\n",
    "Validation accuracy: 87.5%\n",
    "Test accuracy: 93.1%\n",
    "Elapsed Time: 71.47 min\n"
   ]
  }
 ],
 "metadata": {
  "colab": {
   "default_view": {},
   "name": "3_regularization.ipynb",
   "provenance": [],
   "version": "0.3.2",
   "views": {}
  },
  "kernelspec": {
   "display_name": "Python 2",
   "language": "python",
   "name": "python2"
  },
  "language_info": {
   "codemirror_mode": {
    "name": "ipython",
    "version": 2
   },
   "file_extension": ".py",
   "mimetype": "text/x-python",
   "name": "python",
   "nbconvert_exporter": "python",
   "pygments_lexer": "ipython2",
   "version": "2.7.11"
  }
 },
 "nbformat": 4,
 "nbformat_minor": 0
}
