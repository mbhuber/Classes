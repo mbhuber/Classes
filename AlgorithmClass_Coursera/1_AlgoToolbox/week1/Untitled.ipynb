{
 "cells": [
  {
   "cell_type": "markdown",
   "metadata": {},
   "source": [
    "### Week 1"
   ]
  },
  {
   "cell_type": "code",
   "execution_count": 50,
   "metadata": {
    "collapsed": false
   },
   "outputs": [
    {
     "name": "stdout",
     "output_type": "stream",
     "text": [
      "2 -1\n",
      "2 0\n",
      "2 1\n",
      "6\n"
     ]
    }
   ],
   "source": [
    "def maxPairProduct(arr):    \n",
    "    ind1,k = 0, 0\n",
    "    while(k<len(arr)):\n",
    "        if (arr[k] > arr[ind1]):\n",
    "            ind1 = k\n",
    "        k+=1\n",
    "        \n",
    "    ind2 = -1 \n",
    "    for k in range(len(arr)):\n",
    "        if (k != ind1) & ((ind2==-1) | (arr[k] > arr[ind2])):\n",
    "            print ind1, ind2\n",
    "            ind2 = k\n",
    "    print ind1, ind2\n",
    "    \n",
    "    return arr[ind1] * arr[ind2]\n",
    "\n",
    "print maxPairProduct([1,2,3])\n"
   ]
  },
  {
   "cell_type": "markdown",
   "metadata": {},
   "source": [
    "### week 2"
   ]
  },
  {
   "cell_type": "code",
   "execution_count": 19,
   "metadata": {
    "collapsed": false
   },
   "outputs": [
    {
     "name": "stdout",
     "output_type": "stream",
     "text": [
      "24\n",
      "1933053046\n",
      "1\n",
      "15\n"
     ]
    }
   ],
   "source": [
    "def lcm(a,b):\n",
    "    res,k = 1,1\n",
    "    while (a>1) | (b>1):\n",
    "        k +=1\n",
    "        e = 1\n",
    "        while(a%k==0) | (b%k==0):\n",
    "            if (a%k==0):\n",
    "                a/=k\n",
    "            if (b%k==0):\n",
    "                b/=k\n",
    "            e+=1\n",
    "        res *= k**(e-1)\n",
    "    return res\n",
    "\n",
    "print lcm(6,8)\n",
    "print lcm(28851538,1183019)\n",
    "print lcm(1,1)\n",
    "print lcm(3,5)"
   ]
  },
  {
   "cell_type": "code",
   "execution_count": 31,
   "metadata": {
    "collapsed": false
   },
   "outputs": [
    {
     "name": "stdout",
     "output_type": "stream",
     "text": [
      "24\n",
      "1\n",
      "15\n",
      "1933053046\n",
      "3999999998000000000\n",
      "46374212988031350\n"
     ]
    }
   ],
   "source": [
    "def gcd(a,b):\n",
    "    if (b==0):\n",
    "        return a\n",
    "    else:\n",
    "        return gcd(b,a%b)\n",
    "    \n",
    "def lcm(a,b):\n",
    "    if (a==1) | (b==1):\n",
    "        return a*b\n",
    "    else: \n",
    "        return a/gcd(a,b)*b\n",
    "    \n",
    "print lcm(6,8)\n",
    "print lcm(1,1)\n",
    "print lcm(3,5)\n",
    "print lcm(28851538,1183019)\n",
    "print lcm(2000000000,1999999999)\n",
    "print lcm(226553150,1023473145)"
   ]
  },
  {
   "cell_type": "code",
   "execution_count": 54,
   "metadata": {
    "collapsed": false
   },
   "outputs": [
    {
     "data": {
      "text/plain": [
       "12"
      ]
     },
     "execution_count": 54,
     "metadata": {},
     "output_type": "execute_result"
    }
   ],
   "source": [
    "123%111"
   ]
  },
  {
   "cell_type": "code",
   "execution_count": 55,
   "metadata": {
    "collapsed": false
   },
   "outputs": [
    {
     "data": {
      "text/plain": [
       "3"
      ]
     },
     "execution_count": 55,
     "metadata": {},
     "output_type": "execute_result"
    }
   ],
   "source": [
    "111%12"
   ]
  },
  {
   "cell_type": "code",
   "execution_count": 56,
   "metadata": {
    "collapsed": false
   },
   "outputs": [
    {
     "data": {
      "text/plain": [
       "0"
      ]
     },
     "execution_count": 56,
     "metadata": {},
     "output_type": "execute_result"
    }
   ],
   "source": [
    "12%3"
   ]
  },
  {
   "cell_type": "code",
   "execution_count": null,
   "metadata": {
    "collapsed": true
   },
   "outputs": [],
   "source": []
  }
 ],
 "metadata": {
  "kernelspec": {
   "display_name": "Python 2",
   "language": "python",
   "name": "python2"
  },
  "language_info": {
   "codemirror_mode": {
    "name": "ipython",
    "version": 2
   },
   "file_extension": ".py",
   "mimetype": "text/x-python",
   "name": "python",
   "nbconvert_exporter": "python",
   "pygments_lexer": "ipython2",
   "version": "2.7.9"
  }
 },
 "nbformat": 4,
 "nbformat_minor": 0
}
